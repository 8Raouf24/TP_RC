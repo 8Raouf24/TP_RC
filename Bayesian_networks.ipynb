{
  "nbformat": 4,
  "nbformat_minor": 0,
  "metadata": {
    "colab": {
      "name": "Bayesian networks.ipynb",
      "provenance": [],
      "authorship_tag": "ABX9TyPn1ecyb/yglDnkunmFajDN",
      "include_colab_link": true
    },
    "kernelspec": {
      "name": "python3",
      "display_name": "Python 3"
    }
  },
  "cells": [
    {
      "cell_type": "markdown",
      "metadata": {
        "id": "view-in-github",
        "colab_type": "text"
      },
      "source": [
        "<a href=\"https://colab.research.google.com/github/8Raouf24/TP_RC/blob/main/Bayesian_networks.ipynb\" target=\"_parent\"><img src=\"https://colab.research.google.com/assets/colab-badge.svg\" alt=\"Open In Colab\"/></a>"
      ]
    },
    {
      "cell_type": "code",
      "metadata": {
        "colab": {
          "base_uri": "https://localhost:8080/"
        },
        "id": "B1w4EOV_6IWO",
        "outputId": "ac6fea37-a50b-4709-b109-4f938ce4d829"
      },
      "source": [
        "!pip install pgmpy"
      ],
      "execution_count": null,
      "outputs": [
        {
          "output_type": "stream",
          "text": [
            "Requirement already satisfied: pgmpy in /usr/local/lib/python3.7/dist-packages (0.1.13)\n",
            "Requirement already satisfied: scipy in /usr/local/lib/python3.7/dist-packages (from pgmpy) (1.4.1)\n",
            "Requirement already satisfied: numpy in /usr/local/lib/python3.7/dist-packages (from pgmpy) (1.19.5)\n",
            "Requirement already satisfied: networkx in /usr/local/lib/python3.7/dist-packages (from pgmpy) (2.5)\n",
            "Requirement already satisfied: joblib in /usr/local/lib/python3.7/dist-packages (from pgmpy) (1.0.1)\n",
            "Requirement already satisfied: torch in /usr/local/lib/python3.7/dist-packages (from pgmpy) (1.7.1+cu101)\n",
            "Requirement already satisfied: pyparsing in /usr/local/lib/python3.7/dist-packages (from pgmpy) (2.4.7)\n",
            "Requirement already satisfied: scikit-learn in /usr/local/lib/python3.7/dist-packages (from pgmpy) (0.22.2.post1)\n",
            "Requirement already satisfied: statsmodels in /usr/local/lib/python3.7/dist-packages (from pgmpy) (0.10.2)\n",
            "Requirement already satisfied: pandas in /usr/local/lib/python3.7/dist-packages (from pgmpy) (1.1.5)\n",
            "Requirement already satisfied: tqdm in /usr/local/lib/python3.7/dist-packages (from pgmpy) (4.41.1)\n",
            "Requirement already satisfied: decorator>=4.3.0 in /usr/local/lib/python3.7/dist-packages (from networkx->pgmpy) (4.4.2)\n",
            "Requirement already satisfied: typing-extensions in /usr/local/lib/python3.7/dist-packages (from torch->pgmpy) (3.7.4.3)\n",
            "Requirement already satisfied: patsy>=0.4.0 in /usr/local/lib/python3.7/dist-packages (from statsmodels->pgmpy) (0.5.1)\n",
            "Requirement already satisfied: python-dateutil>=2.7.3 in /usr/local/lib/python3.7/dist-packages (from pandas->pgmpy) (2.8.1)\n",
            "Requirement already satisfied: pytz>=2017.2 in /usr/local/lib/python3.7/dist-packages (from pandas->pgmpy) (2018.9)\n",
            "Requirement already satisfied: six in /usr/local/lib/python3.7/dist-packages (from patsy>=0.4.0->statsmodels->pgmpy) (1.15.0)\n"
          ],
          "name": "stdout"
        }
      ]
    },
    {
      "cell_type": "code",
      "metadata": {
        "colab": {
          "base_uri": "https://localhost:8080/"
        },
        "id": "td0hgUR16Ltl",
        "outputId": "cec6348e-892d-4939-cf78-d764b529955b"
      },
      "source": [
        "from pgmpy.models import BayesianModel\r\n",
        "from pgmpy.factors.discrete import TabularCPD\r\n",
        "\r\n",
        "#Création du DAG\r\n",
        "model = BayesianModel([('A', 'E'), ('A', 'F'), ('X', 'F'), ('F', 'C'), ('E', 'C'), ('C', 'S'), ('C', 'T')])\r\n",
        "\r\n",
        "# Définition des cpds ( Conditionals Probability Distributions)\r\n",
        "cpd_a = TabularCPD(variable='A', variable_card=2, values=[[0.7], [0.3]], state_names={'A': ['Enfant', 'Adulte']})\r\n",
        "\r\n",
        "cpd_x = TabularCPD(variable='X', variable_card=2, values=[[0.4], [0.6]], state_names={'X': ['Homme', 'Femme']})\r\n",
        "\r\n",
        "cpd_e = TabularCPD(variable='E', variable_card=2, values=[[0.95,0.7], [0.05,0.3]],\r\n",
        "                   evidence=['A'],evidence_card=[2], state_names={'E': ['Oui', 'Non'],'A': ['Enfant', 'Adulte']})\r\n",
        "\r\n",
        "cpd_f = TabularCPD(variable='F', variable_card=2, values=[[0.35,0.1,0.01,0], [0.65,0.9,0.99,1]],\r\n",
        "                   evidence=['A', 'X'],evidence_card=[2, 2],state_names={'F': ['Fumeur', 'Non_Fumeur'],'A': ['Enfant', 'Adulte'],'X': ['Homme', 'Femme']})\r\n",
        "\r\n",
        "cpd_c = TabularCPD(variable='C', variable_card=2, values=[[0.85,0.5,0.3,0.2], [0.15,0.5,0.7,0.8]],\r\n",
        "                   evidence=['E', 'F'],evidence_card=[2, 2],state_names={'C': ['Cancereux', 'Sain'],'E': ['Oui', 'Non'],'F': ['Fumeur', 'Non_Fumeur']})\r\n",
        "\r\n",
        "cpd_s = TabularCPD(variable='S', variable_card=2, values=[[0.2,0.03], [0.8,0.97]],evidence=['C'],\r\n",
        "                   evidence_card=[2],state_names={'S': ['Elevé', 'Bas'],'C': ['Cancereux', 'Sain']})\r\n",
        "\r\n",
        "cpd_t = TabularCPD(variable='T', variable_card=2, values=[[0.9,0.3], [0.1,0.7]],evidence=['C'],\r\n",
        "                   evidence_card=[2],state_names={'T': ['Malade', 'Non_Malade'],'C': ['Cancereux', 'Sain']})\r\n",
        "\r\n",
        "model.add_cpds(cpd_a, cpd_x, cpd_e, cpd_f, cpd_c, cpd_s,cpd_t)\r\n",
        "model.check_model()"
      ],
      "execution_count": null,
      "outputs": [
        {
          "output_type": "execute_result",
          "data": {
            "text/plain": [
              "True"
            ]
          },
          "metadata": {
            "tags": []
          },
          "execution_count": 9
        }
      ]
    },
    {
      "cell_type": "code",
      "metadata": {
        "colab": {
          "base_uri": "https://localhost:8080/"
        },
        "id": "XmRqhCOsHplm",
        "outputId": "cfc3abd5-25ce-4d94-dff4-0069cac8b228"
      },
      "source": [
        "model.get_cpds()"
      ],
      "execution_count": null,
      "outputs": [
        {
          "output_type": "execute_result",
          "data": {
            "text/plain": [
              "[<TabularCPD representing P(A:2) at 0x7fde56ead910>,\n",
              " <TabularCPD representing P(X:2) at 0x7fddfa9bcb90>,\n",
              " <TabularCPD representing P(E:2 | A:2) at 0x7fde56eadd50>,\n",
              " <TabularCPD representing P(F:2 | A:2, X:2) at 0x7fde56eadc10>,\n",
              " <TabularCPD representing P(C:2 | E:2, F:2) at 0x7fde56ead990>,\n",
              " <TabularCPD representing P(S:2 | C:2) at 0x7fde56ead550>,\n",
              " <TabularCPD representing P(T:2 | C:2) at 0x7fde56ead590>]"
            ]
          },
          "metadata": {
            "tags": []
          },
          "execution_count": 10
        }
      ]
    },
    {
      "cell_type": "code",
      "metadata": {
        "colab": {
          "base_uri": "https://localhost:8080/"
        },
        "id": "LKWfesU1JVg_",
        "outputId": "8e39ad09-1a25-4aa7-9f91-85dfa1397bf5"
      },
      "source": [
        "print(cpd_e)"
      ],
      "execution_count": null,
      "outputs": [
        {
          "output_type": "stream",
          "text": [
            "+--------+-----------+-----------+\n",
            "| A      | A(Enfant) | A(Adulte) |\n",
            "+--------+-----------+-----------+\n",
            "| E(Oui) | 0.95      | 0.7       |\n",
            "+--------+-----------+-----------+\n",
            "| E(Non) | 0.05      | 0.3       |\n",
            "+--------+-----------+-----------+\n"
          ],
          "name": "stdout"
        }
      ]
    },
    {
      "cell_type": "code",
      "metadata": {
        "colab": {
          "base_uri": "https://localhost:8080/"
        },
        "id": "1olqXOcQe81x",
        "outputId": "ca8b44fc-e949-47a0-fd21-1f05e2a9fa3e"
      },
      "source": [
        "print(cpd_f)"
      ],
      "execution_count": null,
      "outputs": [
        {
          "output_type": "stream",
          "text": [
            "+---------------+-----------+-----------+-----------+-----------+\n",
            "| A             | A(Enfant) | A(Enfant) | A(Adulte) | A(Adulte) |\n",
            "+---------------+-----------+-----------+-----------+-----------+\n",
            "| X             | X(Homme)  | X(Femme)  | X(Homme)  | X(Femme)  |\n",
            "+---------------+-----------+-----------+-----------+-----------+\n",
            "| F(Fumeur)     | 0.35      | 0.1       | 0.01      | 0.0       |\n",
            "+---------------+-----------+-----------+-----------+-----------+\n",
            "| F(Non_Fumeur) | 0.65      | 0.9       | 0.99      | 1.0       |\n",
            "+---------------+-----------+-----------+-----------+-----------+\n"
          ],
          "name": "stdout"
        }
      ]
    },
    {
      "cell_type": "code",
      "metadata": {
        "colab": {
          "base_uri": "https://localhost:8080/"
        },
        "id": "9h8H-fkBe8zB",
        "outputId": "c9377e9e-d6e6-477d-d712-88288499177c"
      },
      "source": [
        "print(cpd_c)"
      ],
      "execution_count": null,
      "outputs": [
        {
          "output_type": "stream",
          "text": [
            "+--------------+-----------+---------------+-----------+---------------+\n",
            "| E            | E(Oui)    | E(Oui)        | E(Non)    | E(Non)        |\n",
            "+--------------+-----------+---------------+-----------+---------------+\n",
            "| F            | F(Fumeur) | F(Non_Fumeur) | F(Fumeur) | F(Non_Fumeur) |\n",
            "+--------------+-----------+---------------+-----------+---------------+\n",
            "| C(Cancereux) | 0.85      | 0.5           | 0.3       | 0.2           |\n",
            "+--------------+-----------+---------------+-----------+---------------+\n",
            "| C(Sain)      | 0.15      | 0.5           | 0.7       | 0.8           |\n",
            "+--------------+-----------+---------------+-----------+---------------+\n"
          ],
          "name": "stdout"
        }
      ]
    },
    {
      "cell_type": "code",
      "metadata": {
        "id": "ayGIXegpSlOE",
        "colab": {
          "base_uri": "https://localhost:8080/"
        },
        "outputId": "86597faa-ad67-4a11-832a-bc872f33f93e"
      },
      "source": [
        "print(cpd_s)"
      ],
      "execution_count": null,
      "outputs": [
        {
          "output_type": "stream",
          "text": [
            "+----------+--------------+---------+\n",
            "| C        | C(Cancereux) | C(Sain) |\n",
            "+----------+--------------+---------+\n",
            "| S(Elevé) | 0.2          | 0.03    |\n",
            "+----------+--------------+---------+\n",
            "| S(Bas)   | 0.8          | 0.97    |\n",
            "+----------+--------------+---------+\n"
          ],
          "name": "stdout"
        }
      ]
    },
    {
      "cell_type": "code",
      "metadata": {
        "colab": {
          "base_uri": "https://localhost:8080/"
        },
        "id": "JWM9fTBofBDP",
        "outputId": "e316812b-a8f1-4654-b903-b0586315683d"
      },
      "source": [
        "print(cpd_t)"
      ],
      "execution_count": null,
      "outputs": [
        {
          "output_type": "stream",
          "text": [
            "+---------------+--------------+---------+\n",
            "| C             | C(Cancereux) | C(Sain) |\n",
            "+---------------+--------------+---------+\n",
            "| T(Malade)     | 0.9          | 0.3     |\n",
            "+---------------+--------------+---------+\n",
            "| T(Non_Malade) | 0.1          | 0.7     |\n",
            "+---------------+--------------+---------+\n"
          ],
          "name": "stdout"
        }
      ]
    },
    {
      "cell_type": "code",
      "metadata": {
        "colab": {
          "base_uri": "https://localhost:8080/"
        },
        "id": "jzc0lK2aJYCA",
        "outputId": "3725528d-8bad-41b8-8dd9-bb4867fa9471"
      },
      "source": [
        "from pgmpy.inference import VariableElimination\r\n",
        "infer = VariableElimination(model)\r\n",
        "c_dist = infer.query(['C'],evidence={'A':'Adulte'})\r\n",
        "print(c_dist)"
      ],
      "execution_count": null,
      "outputs": [
        {
          "output_type": "stream",
          "text": [
            "Finding Elimination Order: : 100%|██████████| 5/5 [00:00<00:00, 1203.39it/s]\n",
            "Eliminating: S: 100%|██████████| 5/5 [00:00<00:00, 434.33it/s]"
          ],
          "name": "stderr"
        },
        {
          "output_type": "stream",
          "text": [
            "+--------------+----------+\n",
            "| C            |   phi(C) |\n",
            "+==============+==========+\n",
            "| C(Cancereux) |   0.4111 |\n",
            "+--------------+----------+\n",
            "| C(Sain)      |   0.5889 |\n",
            "+--------------+----------+\n"
          ],
          "name": "stdout"
        },
        {
          "output_type": "stream",
          "text": [
            "\n"
          ],
          "name": "stderr"
        }
      ]
    },
    {
      "cell_type": "code",
      "metadata": {
        "id": "hr3Zvz3tKQ3h"
      },
      "source": [
        ""
      ],
      "execution_count": null,
      "outputs": []
    }
  ]
}